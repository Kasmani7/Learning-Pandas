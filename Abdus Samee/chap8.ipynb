{
 "cells": [
  {
   "cell_type": "code",
   "execution_count": 147,
   "metadata": {},
   "outputs": [],
   "source": [
    "import numpy as np\n",
    "import pandas as pd"
   ]
  },
  {
   "cell_type": "code",
   "execution_count": 148,
   "metadata": {},
   "outputs": [
    {
     "data": {
      "text/html": [
       "<div>\n",
       "<style scoped>\n",
       "    .dataframe tbody tr th:only-of-type {\n",
       "        vertical-align: middle;\n",
       "    }\n",
       "\n",
       "    .dataframe tbody tr th {\n",
       "        vertical-align: top;\n",
       "    }\n",
       "\n",
       "    .dataframe thead th {\n",
       "        text-align: right;\n",
       "    }\n",
       "</style>\n",
       "<table border=\"1\" class=\"dataframe\">\n",
       "  <thead>\n",
       "    <tr style=\"text-align: right;\">\n",
       "      <th></th>\n",
       "      <th>0</th>\n",
       "      <th>1</th>\n",
       "      <th>2</th>\n",
       "      <th>3</th>\n",
       "    </tr>\n",
       "  </thead>\n",
       "  <tbody>\n",
       "    <tr>\n",
       "      <th>0</th>\n",
       "      <td>1.854624</td>\n",
       "      <td>-0.206481</td>\n",
       "      <td>0.389895</td>\n",
       "      <td>-0.190706</td>\n",
       "    </tr>\n",
       "    <tr>\n",
       "      <th>1</th>\n",
       "      <td>0.365371</td>\n",
       "      <td>0.728686</td>\n",
       "      <td>-2.615213</td>\n",
       "      <td>0.782879</td>\n",
       "    </tr>\n",
       "    <tr>\n",
       "      <th>2</th>\n",
       "      <td>0.089382</td>\n",
       "      <td>1.404172</td>\n",
       "      <td>-0.960388</td>\n",
       "      <td>-1.227001</td>\n",
       "    </tr>\n",
       "    <tr>\n",
       "      <th>3</th>\n",
       "      <td>-1.431990</td>\n",
       "      <td>0.009180</td>\n",
       "      <td>0.313985</td>\n",
       "      <td>-0.768533</td>\n",
       "    </tr>\n",
       "    <tr>\n",
       "      <th>4</th>\n",
       "      <td>-0.132289</td>\n",
       "      <td>0.647764</td>\n",
       "      <td>-0.913016</td>\n",
       "      <td>0.661050</td>\n",
       "    </tr>\n",
       "  </tbody>\n",
       "</table>\n",
       "</div>"
      ],
      "text/plain": [
       "          0         1         2         3\n",
       "0  1.854624 -0.206481  0.389895 -0.190706\n",
       "1  0.365371  0.728686 -2.615213  0.782879\n",
       "2  0.089382  1.404172 -0.960388 -1.227001\n",
       "3 -1.431990  0.009180  0.313985 -0.768533\n",
       "4 -0.132289  0.647764 -0.913016  0.661050"
      ]
     },
     "metadata": {},
     "output_type": "display_data"
    },
    {
     "data": {
      "text/html": [
       "<div>\n",
       "<style scoped>\n",
       "    .dataframe tbody tr th:only-of-type {\n",
       "        vertical-align: middle;\n",
       "    }\n",
       "\n",
       "    .dataframe tbody tr th {\n",
       "        vertical-align: top;\n",
       "    }\n",
       "\n",
       "    .dataframe thead th {\n",
       "        text-align: right;\n",
       "    }\n",
       "</style>\n",
       "<table border=\"1\" class=\"dataframe\">\n",
       "  <thead>\n",
       "    <tr style=\"text-align: right;\">\n",
       "      <th></th>\n",
       "      <th>0</th>\n",
       "      <th>1</th>\n",
       "      <th>2</th>\n",
       "      <th>3</th>\n",
       "    </tr>\n",
       "  </thead>\n",
       "  <tbody>\n",
       "    <tr>\n",
       "      <th>1</th>\n",
       "      <td>0.365371</td>\n",
       "      <td>0.728686</td>\n",
       "      <td>-2.615213</td>\n",
       "      <td>0.782879</td>\n",
       "    </tr>\n",
       "    <tr>\n",
       "      <th>0</th>\n",
       "      <td>1.854624</td>\n",
       "      <td>-0.206481</td>\n",
       "      <td>0.389895</td>\n",
       "      <td>-0.190706</td>\n",
       "    </tr>\n",
       "  </tbody>\n",
       "</table>\n",
       "</div>"
      ],
      "text/plain": [
       "          0         1         2         3\n",
       "1  0.365371  0.728686 -2.615213  0.782879\n",
       "0  1.854624 -0.206481  0.389895 -0.190706"
      ]
     },
     "execution_count": 148,
     "metadata": {},
     "output_type": "execute_result"
    }
   ],
   "source": [
    "df = pd.DataFrame(np.random.randn(20).reshape(5 ,4))\n",
    "display(df)\n",
    "sampler = np.random.permutation(2)\n",
    "\n",
    "df.take(sampler)"
   ]
  },
  {
   "cell_type": "code",
   "execution_count": 169,
   "metadata": {},
   "outputs": [
    {
     "data": {
      "text/html": [
       "<div>\n",
       "<style scoped>\n",
       "    .dataframe tbody tr th:only-of-type {\n",
       "        vertical-align: middle;\n",
       "    }\n",
       "\n",
       "    .dataframe tbody tr th {\n",
       "        vertical-align: top;\n",
       "    }\n",
       "\n",
       "    .dataframe thead th {\n",
       "        text-align: right;\n",
       "    }\n",
       "</style>\n",
       "<table border=\"1\" class=\"dataframe\">\n",
       "  <thead>\n",
       "    <tr style=\"text-align: right;\">\n",
       "      <th></th>\n",
       "      <th>0</th>\n",
       "      <th>1</th>\n",
       "      <th>2</th>\n",
       "      <th>3</th>\n",
       "    </tr>\n",
       "  </thead>\n",
       "  <tbody>\n",
       "    <tr>\n",
       "      <th>3</th>\n",
       "      <td>-1.431990</td>\n",
       "      <td>0.009180</td>\n",
       "      <td>0.313985</td>\n",
       "      <td>-0.768533</td>\n",
       "    </tr>\n",
       "    <tr>\n",
       "      <th>3</th>\n",
       "      <td>-1.431990</td>\n",
       "      <td>0.009180</td>\n",
       "      <td>0.313985</td>\n",
       "      <td>-0.768533</td>\n",
       "    </tr>\n",
       "    <tr>\n",
       "      <th>1</th>\n",
       "      <td>0.365371</td>\n",
       "      <td>0.728686</td>\n",
       "      <td>-2.615213</td>\n",
       "      <td>0.782879</td>\n",
       "    </tr>\n",
       "  </tbody>\n",
       "</table>\n",
       "</div>"
      ],
      "text/plain": [
       "          0         1         2         3\n",
       "3 -1.431990  0.009180  0.313985 -0.768533\n",
       "3 -1.431990  0.009180  0.313985 -0.768533\n",
       "1  0.365371  0.728686 -2.615213  0.782879"
      ]
     },
     "execution_count": 169,
     "metadata": {},
     "output_type": "execute_result"
    }
   ],
   "source": [
    "df.sample(3 ,  replace= True)\n"
   ]
  },
  {
   "cell_type": "code",
   "execution_count": 167,
   "metadata": {},
   "outputs": [
    {
     "data": {
      "text/html": [
       "<div>\n",
       "<style scoped>\n",
       "    .dataframe tbody tr th:only-of-type {\n",
       "        vertical-align: middle;\n",
       "    }\n",
       "\n",
       "    .dataframe tbody tr th {\n",
       "        vertical-align: top;\n",
       "    }\n",
       "\n",
       "    .dataframe thead th {\n",
       "        text-align: right;\n",
       "    }\n",
       "</style>\n",
       "<table border=\"1\" class=\"dataframe\">\n",
       "  <thead>\n",
       "    <tr style=\"text-align: right;\">\n",
       "      <th></th>\n",
       "      <th>0</th>\n",
       "      <th>1</th>\n",
       "      <th>2</th>\n",
       "      <th>3</th>\n",
       "    </tr>\n",
       "  </thead>\n",
       "  <tbody>\n",
       "    <tr>\n",
       "      <th>0</th>\n",
       "      <td>1.854624</td>\n",
       "      <td>-0.206481</td>\n",
       "      <td>0.389895</td>\n",
       "      <td>-0.190706</td>\n",
       "    </tr>\n",
       "    <tr>\n",
       "      <th>1</th>\n",
       "      <td>0.365371</td>\n",
       "      <td>0.728686</td>\n",
       "      <td>-2.615213</td>\n",
       "      <td>0.782879</td>\n",
       "    </tr>\n",
       "    <tr>\n",
       "      <th>2</th>\n",
       "      <td>0.089382</td>\n",
       "      <td>1.404172</td>\n",
       "      <td>-0.960388</td>\n",
       "      <td>-1.227001</td>\n",
       "    </tr>\n",
       "    <tr>\n",
       "      <th>3</th>\n",
       "      <td>-1.431990</td>\n",
       "      <td>0.009180</td>\n",
       "      <td>0.313985</td>\n",
       "      <td>-0.768533</td>\n",
       "    </tr>\n",
       "    <tr>\n",
       "      <th>4</th>\n",
       "      <td>-0.132289</td>\n",
       "      <td>0.647764</td>\n",
       "      <td>-0.913016</td>\n",
       "      <td>0.661050</td>\n",
       "    </tr>\n",
       "  </tbody>\n",
       "</table>\n",
       "</div>"
      ],
      "text/plain": [
       "          0         1         2         3\n",
       "0  1.854624 -0.206481  0.389895 -0.190706\n",
       "1  0.365371  0.728686 -2.615213  0.782879\n",
       "2  0.089382  1.404172 -0.960388 -1.227001\n",
       "3 -1.431990  0.009180  0.313985 -0.768533\n",
       "4 -0.132289  0.647764 -0.913016  0.661050"
      ]
     },
     "execution_count": 167,
     "metadata": {},
     "output_type": "execute_result"
    }
   ],
   "source": [
    "df"
   ]
  },
  {
   "cell_type": "code",
   "execution_count": 166,
   "metadata": {},
   "outputs": [
    {
     "data": {
      "text/html": [
       "<div>\n",
       "<style scoped>\n",
       "    .dataframe tbody tr th:only-of-type {\n",
       "        vertical-align: middle;\n",
       "    }\n",
       "\n",
       "    .dataframe tbody tr th {\n",
       "        vertical-align: top;\n",
       "    }\n",
       "\n",
       "    .dataframe thead th {\n",
       "        text-align: right;\n",
       "    }\n",
       "</style>\n",
       "<table border=\"1\" class=\"dataframe\">\n",
       "  <thead>\n",
       "    <tr style=\"text-align: right;\">\n",
       "      <th></th>\n",
       "      <th>0</th>\n",
       "      <th>1</th>\n",
       "      <th>2</th>\n",
       "      <th>3</th>\n",
       "    </tr>\n",
       "  </thead>\n",
       "  <tbody>\n",
       "    <tr>\n",
       "      <th>4</th>\n",
       "      <td>-0.132289</td>\n",
       "      <td>0.647764</td>\n",
       "      <td>-0.913016</td>\n",
       "      <td>0.661050</td>\n",
       "    </tr>\n",
       "    <tr>\n",
       "      <th>0</th>\n",
       "      <td>1.854624</td>\n",
       "      <td>-0.206481</td>\n",
       "      <td>0.389895</td>\n",
       "      <td>-0.190706</td>\n",
       "    </tr>\n",
       "    <tr>\n",
       "      <th>2</th>\n",
       "      <td>0.089382</td>\n",
       "      <td>1.404172</td>\n",
       "      <td>-0.960388</td>\n",
       "      <td>-1.227001</td>\n",
       "    </tr>\n",
       "  </tbody>\n",
       "</table>\n",
       "</div>"
      ],
      "text/plain": [
       "          0         1         2         3\n",
       "4 -0.132289  0.647764 -0.913016  0.661050\n",
       "0  1.854624 -0.206481  0.389895 -0.190706\n",
       "2  0.089382  1.404172 -0.960388 -1.227001"
      ]
     },
     "execution_count": 166,
     "metadata": {},
     "output_type": "execute_result"
    }
   ],
   "source": [
    "df.sample(3 , replace= False)"
   ]
  },
  {
   "cell_type": "code",
   "execution_count": 106,
   "metadata": {},
   "outputs": [
    {
     "data": {
      "text/html": [
       "<div>\n",
       "<style scoped>\n",
       "    .dataframe tbody tr th:only-of-type {\n",
       "        vertical-align: middle;\n",
       "    }\n",
       "\n",
       "    .dataframe tbody tr th {\n",
       "        vertical-align: top;\n",
       "    }\n",
       "\n",
       "    .dataframe thead th {\n",
       "        text-align: right;\n",
       "    }\n",
       "</style>\n",
       "<table border=\"1\" class=\"dataframe\">\n",
       "  <thead>\n",
       "    <tr style=\"text-align: right;\">\n",
       "      <th></th>\n",
       "      <th>age</th>\n",
       "    </tr>\n",
       "    <tr>\n",
       "      <th>Name</th>\n",
       "      <th></th>\n",
       "    </tr>\n",
       "  </thead>\n",
       "  <tbody>\n",
       "    <tr>\n",
       "      <th>Umer</th>\n",
       "      <td>-0.251932</td>\n",
       "    </tr>\n",
       "    <tr>\n",
       "      <th>Bilal</th>\n",
       "      <td>0.497078</td>\n",
       "    </tr>\n",
       "    <tr>\n",
       "      <th>Ali</th>\n",
       "      <td>-0.022434</td>\n",
       "    </tr>\n",
       "    <tr>\n",
       "      <th>Usman</th>\n",
       "      <td>1.192518</td>\n",
       "    </tr>\n",
       "  </tbody>\n",
       "</table>\n",
       "</div>"
      ],
      "text/plain": [
       "            age\n",
       "Name           \n",
       "Umer  -0.251932\n",
       "Bilal  0.497078\n",
       "Ali   -0.022434\n",
       "Usman  1.192518"
      ]
     },
     "execution_count": 106,
     "metadata": {},
     "output_type": "execute_result"
    }
   ],
   "source": [
    "df1 = pd.DataFrame({'Name':['Umer' , 'Bilal' , 'Ali' , 'Usman'],\n",
    "                   'age':(np.random.randn(4))}).set_index('Name')\n",
    "df1"
   ]
  },
  {
   "cell_type": "code",
   "execution_count": 107,
   "metadata": {},
   "outputs": [
    {
     "data": {
      "text/html": [
       "<div>\n",
       "<style scoped>\n",
       "    .dataframe tbody tr th:only-of-type {\n",
       "        vertical-align: middle;\n",
       "    }\n",
       "\n",
       "    .dataframe tbody tr th {\n",
       "        vertical-align: top;\n",
       "    }\n",
       "\n",
       "    .dataframe thead th {\n",
       "        text-align: right;\n",
       "    }\n",
       "</style>\n",
       "<table border=\"1\" class=\"dataframe\">\n",
       "  <thead>\n",
       "    <tr style=\"text-align: right;\">\n",
       "      <th></th>\n",
       "      <th>GPA</th>\n",
       "    </tr>\n",
       "    <tr>\n",
       "      <th>SName</th>\n",
       "      <th></th>\n",
       "    </tr>\n",
       "  </thead>\n",
       "  <tbody>\n",
       "    <tr>\n",
       "      <th>Umer</th>\n",
       "      <td>1.263079</td>\n",
       "    </tr>\n",
       "    <tr>\n",
       "      <th>Bilal</th>\n",
       "      <td>1.191563</td>\n",
       "    </tr>\n",
       "    <tr>\n",
       "      <th>Ali</th>\n",
       "      <td>0.119615</td>\n",
       "    </tr>\n",
       "    <tr>\n",
       "      <th>Hamza</th>\n",
       "      <td>-1.325956</td>\n",
       "    </tr>\n",
       "  </tbody>\n",
       "</table>\n",
       "</div>"
      ],
      "text/plain": [
       "            GPA\n",
       "SName          \n",
       "Umer   1.263079\n",
       "Bilal  1.191563\n",
       "Ali    0.119615\n",
       "Hamza -1.325956"
      ]
     },
     "execution_count": 107,
     "metadata": {},
     "output_type": "execute_result"
    }
   ],
   "source": [
    "df2 = pd.DataFrame({'SName':['Umer' , 'Bilal' , 'Ali' , 'Hamza'],\n",
    "                   'GPA':(np.random.randn(4))}).set_index('SName')\n",
    "df2"
   ]
  },
  {
   "cell_type": "code",
   "execution_count": 108,
   "metadata": {},
   "outputs": [
    {
     "data": {
      "text/html": [
       "<div>\n",
       "<style scoped>\n",
       "    .dataframe tbody tr th:only-of-type {\n",
       "        vertical-align: middle;\n",
       "    }\n",
       "\n",
       "    .dataframe tbody tr th {\n",
       "        vertical-align: top;\n",
       "    }\n",
       "\n",
       "    .dataframe thead th {\n",
       "        text-align: right;\n",
       "    }\n",
       "</style>\n",
       "<table border=\"1\" class=\"dataframe\">\n",
       "  <thead>\n",
       "    <tr style=\"text-align: right;\">\n",
       "      <th></th>\n",
       "      <th>age</th>\n",
       "      <th>GPA</th>\n",
       "    </tr>\n",
       "    <tr>\n",
       "      <th>Name</th>\n",
       "      <th></th>\n",
       "      <th></th>\n",
       "    </tr>\n",
       "  </thead>\n",
       "  <tbody>\n",
       "    <tr>\n",
       "      <th>Umer</th>\n",
       "      <td>-0.251932</td>\n",
       "      <td>1.263079</td>\n",
       "    </tr>\n",
       "    <tr>\n",
       "      <th>Bilal</th>\n",
       "      <td>0.497078</td>\n",
       "      <td>1.191563</td>\n",
       "    </tr>\n",
       "    <tr>\n",
       "      <th>Ali</th>\n",
       "      <td>-0.022434</td>\n",
       "      <td>0.119615</td>\n",
       "    </tr>\n",
       "    <tr>\n",
       "      <th>Usman</th>\n",
       "      <td>1.192518</td>\n",
       "      <td>NaN</td>\n",
       "    </tr>\n",
       "  </tbody>\n",
       "</table>\n",
       "</div>"
      ],
      "text/plain": [
       "            age       GPA\n",
       "Name                     \n",
       "Umer  -0.251932  1.263079\n",
       "Bilal  0.497078  1.191563\n",
       "Ali   -0.022434  0.119615\n",
       "Usman  1.192518       NaN"
      ]
     },
     "execution_count": 108,
     "metadata": {},
     "output_type": "execute_result"
    }
   ],
   "source": [
    "df1.join(df2)"
   ]
  },
  {
   "cell_type": "code",
   "execution_count": 109,
   "metadata": {
    "scrolled": true
   },
   "outputs": [
    {
     "data": {
      "text/html": [
       "<div>\n",
       "<style scoped>\n",
       "    .dataframe tbody tr th:only-of-type {\n",
       "        vertical-align: middle;\n",
       "    }\n",
       "\n",
       "    .dataframe tbody tr th {\n",
       "        vertical-align: top;\n",
       "    }\n",
       "\n",
       "    .dataframe thead th {\n",
       "        text-align: right;\n",
       "    }\n",
       "</style>\n",
       "<table border=\"1\" class=\"dataframe\">\n",
       "  <thead>\n",
       "    <tr style=\"text-align: right;\">\n",
       "      <th></th>\n",
       "      <th>GPA</th>\n",
       "      <th>age</th>\n",
       "    </tr>\n",
       "    <tr>\n",
       "      <th>SName</th>\n",
       "      <th></th>\n",
       "      <th></th>\n",
       "    </tr>\n",
       "  </thead>\n",
       "  <tbody>\n",
       "    <tr>\n",
       "      <th>Umer</th>\n",
       "      <td>1.263079</td>\n",
       "      <td>-0.251932</td>\n",
       "    </tr>\n",
       "    <tr>\n",
       "      <th>Bilal</th>\n",
       "      <td>1.191563</td>\n",
       "      <td>0.497078</td>\n",
       "    </tr>\n",
       "    <tr>\n",
       "      <th>Ali</th>\n",
       "      <td>0.119615</td>\n",
       "      <td>-0.022434</td>\n",
       "    </tr>\n",
       "    <tr>\n",
       "      <th>Hamza</th>\n",
       "      <td>-1.325956</td>\n",
       "      <td>NaN</td>\n",
       "    </tr>\n",
       "  </tbody>\n",
       "</table>\n",
       "</div>"
      ],
      "text/plain": [
       "            GPA       age\n",
       "SName                    \n",
       "Umer   1.263079 -0.251932\n",
       "Bilal  1.191563  0.497078\n",
       "Ali    0.119615 -0.022434\n",
       "Hamza -1.325956       NaN"
      ]
     },
     "execution_count": 109,
     "metadata": {},
     "output_type": "execute_result"
    }
   ],
   "source": [
    "df2.join(df1)"
   ]
  },
  {
   "cell_type": "code",
   "execution_count": 116,
   "metadata": {},
   "outputs": [],
   "source": [
    "a = pd.Series([23,34,56,78] , index = ['b' , 'd' , 'a' , 'c'] )\n",
    "b= pd.Series([44,67,89,90])\n"
   ]
  },
  {
   "cell_type": "code",
   "execution_count": 125,
   "metadata": {},
   "outputs": [],
   "source": [
    "x = pd.concat([b , a] , sort = True , axis = 1)"
   ]
  },
  {
   "cell_type": "code",
   "execution_count": 126,
   "metadata": {},
   "outputs": [
    {
     "data": {
      "text/html": [
       "<div>\n",
       "<style scoped>\n",
       "    .dataframe tbody tr th:only-of-type {\n",
       "        vertical-align: middle;\n",
       "    }\n",
       "\n",
       "    .dataframe tbody tr th {\n",
       "        vertical-align: top;\n",
       "    }\n",
       "\n",
       "    .dataframe thead th {\n",
       "        text-align: right;\n",
       "    }\n",
       "</style>\n",
       "<table border=\"1\" class=\"dataframe\">\n",
       "  <thead>\n",
       "    <tr style=\"text-align: right;\">\n",
       "      <th></th>\n",
       "      <th>0</th>\n",
       "      <th>1</th>\n",
       "    </tr>\n",
       "  </thead>\n",
       "  <tbody>\n",
       "    <tr>\n",
       "      <th>0</th>\n",
       "      <td>44.0</td>\n",
       "      <td>NaN</td>\n",
       "    </tr>\n",
       "    <tr>\n",
       "      <th>1</th>\n",
       "      <td>67.0</td>\n",
       "      <td>NaN</td>\n",
       "    </tr>\n",
       "    <tr>\n",
       "      <th>2</th>\n",
       "      <td>89.0</td>\n",
       "      <td>NaN</td>\n",
       "    </tr>\n",
       "    <tr>\n",
       "      <th>3</th>\n",
       "      <td>90.0</td>\n",
       "      <td>NaN</td>\n",
       "    </tr>\n",
       "    <tr>\n",
       "      <th>a</th>\n",
       "      <td>NaN</td>\n",
       "      <td>56.0</td>\n",
       "    </tr>\n",
       "    <tr>\n",
       "      <th>b</th>\n",
       "      <td>NaN</td>\n",
       "      <td>23.0</td>\n",
       "    </tr>\n",
       "    <tr>\n",
       "      <th>c</th>\n",
       "      <td>NaN</td>\n",
       "      <td>78.0</td>\n",
       "    </tr>\n",
       "    <tr>\n",
       "      <th>d</th>\n",
       "      <td>NaN</td>\n",
       "      <td>34.0</td>\n",
       "    </tr>\n",
       "  </tbody>\n",
       "</table>\n",
       "</div>"
      ],
      "text/plain": [
       "      0     1\n",
       "0  44.0   NaN\n",
       "1  67.0   NaN\n",
       "2  89.0   NaN\n",
       "3  90.0   NaN\n",
       "a   NaN  56.0\n",
       "b   NaN  23.0\n",
       "c   NaN  78.0\n",
       "d   NaN  34.0"
      ]
     },
     "execution_count": 126,
     "metadata": {},
     "output_type": "execute_result"
    }
   ],
   "source": [
    "x"
   ]
  },
  {
   "cell_type": "code",
   "execution_count": 112,
   "metadata": {},
   "outputs": [
    {
     "data": {
      "text/html": [
       "<div>\n",
       "<style scoped>\n",
       "    .dataframe tbody tr th:only-of-type {\n",
       "        vertical-align: middle;\n",
       "    }\n",
       "\n",
       "    .dataframe tbody tr th {\n",
       "        vertical-align: top;\n",
       "    }\n",
       "\n",
       "    .dataframe thead th {\n",
       "        text-align: right;\n",
       "    }\n",
       "</style>\n",
       "<table border=\"1\" class=\"dataframe\">\n",
       "  <thead>\n",
       "    <tr style=\"text-align: right;\">\n",
       "      <th></th>\n",
       "      <th>GPA</th>\n",
       "      <th>age</th>\n",
       "    </tr>\n",
       "  </thead>\n",
       "  <tbody>\n",
       "    <tr>\n",
       "      <th>Umer</th>\n",
       "      <td>NaN</td>\n",
       "      <td>-0.251932</td>\n",
       "    </tr>\n",
       "    <tr>\n",
       "      <th>Bilal</th>\n",
       "      <td>NaN</td>\n",
       "      <td>0.497078</td>\n",
       "    </tr>\n",
       "    <tr>\n",
       "      <th>Ali</th>\n",
       "      <td>NaN</td>\n",
       "      <td>-0.022434</td>\n",
       "    </tr>\n",
       "    <tr>\n",
       "      <th>Usman</th>\n",
       "      <td>NaN</td>\n",
       "      <td>1.192518</td>\n",
       "    </tr>\n",
       "    <tr>\n",
       "      <th>Umer</th>\n",
       "      <td>1.263079</td>\n",
       "      <td>NaN</td>\n",
       "    </tr>\n",
       "    <tr>\n",
       "      <th>Bilal</th>\n",
       "      <td>1.191563</td>\n",
       "      <td>NaN</td>\n",
       "    </tr>\n",
       "    <tr>\n",
       "      <th>Ali</th>\n",
       "      <td>0.119615</td>\n",
       "      <td>NaN</td>\n",
       "    </tr>\n",
       "    <tr>\n",
       "      <th>Hamza</th>\n",
       "      <td>-1.325956</td>\n",
       "      <td>NaN</td>\n",
       "    </tr>\n",
       "  </tbody>\n",
       "</table>\n",
       "</div>"
      ],
      "text/plain": [
       "            GPA       age\n",
       "Umer        NaN -0.251932\n",
       "Bilal       NaN  0.497078\n",
       "Ali         NaN -0.022434\n",
       "Usman       NaN  1.192518\n",
       "Umer   1.263079       NaN\n",
       "Bilal  1.191563       NaN\n",
       "Ali    0.119615       NaN\n",
       "Hamza -1.325956       NaN"
      ]
     },
     "execution_count": 112,
     "metadata": {},
     "output_type": "execute_result"
    }
   ],
   "source": [
    "pd.concat([df1 , df2] , sort = True)"
   ]
  },
  {
   "cell_type": "markdown",
   "metadata": {},
   "source": [
    "# Heirarchical Indexing"
   ]
  },
  {
   "cell_type": "code",
   "execution_count": 204,
   "metadata": {},
   "outputs": [],
   "source": [
    "df= pd.Series(np.random.randn(10),\n",
    "             index = [['Karachi','Karachi'\n",
    "                      ,'Karachi','Karachi',\n",
    "                      'lahore','lahore','lahore',\n",
    "                      \"Islamabad\", \"Peshware\" , 'Peshware'] , \n",
    "                      ['Dhoraji','Sharfabad','Tariq Road' ,'Defence',\n",
    "                      'Gulberg' ,'Iqbal Road' , 'Model Town' , \n",
    "                      'F-9' , 'Khyber' , 'Qissa khuwani Bazar']])"
   ]
  },
  {
   "cell_type": "code",
   "execution_count": 205,
   "metadata": {},
   "outputs": [
    {
     "data": {
      "text/plain": [
       "Karachi    Dhoraji                0.878767\n",
       "           Sharfabad              1.172870\n",
       "           Tariq Road            -0.099732\n",
       "           Defence                2.128372\n",
       "lahore     Gulberg                1.145684\n",
       "           Iqbal Road            -0.506274\n",
       "           Model Town            -0.813375\n",
       "Islamabad  F-9                   -0.042742\n",
       "Peshware   Khyber                 0.062174\n",
       "           Qissa khuwani Bazar    0.349359\n",
       "dtype: float64"
      ]
     },
     "execution_count": 205,
     "metadata": {},
     "output_type": "execute_result"
    }
   ],
   "source": [
    "df"
   ]
  },
  {
   "cell_type": "code",
   "execution_count": null,
   "metadata": {},
   "outputs": [],
   "source": []
  },
  {
   "cell_type": "code",
   "execution_count": 174,
   "metadata": {},
   "outputs": [
    {
     "data": {
      "text/plain": [
       "Dhoraji       1.182825\n",
       "Sharfabad    -0.371320\n",
       "Tariq Road   -0.795583\n",
       "Defence      -1.176762\n",
       "dtype: float64"
      ]
     },
     "execution_count": 174,
     "metadata": {},
     "output_type": "execute_result"
    }
   ],
   "source": [
    "df['Karachi']"
   ]
  },
  {
   "cell_type": "code",
   "execution_count": 175,
   "metadata": {},
   "outputs": [
    {
     "data": {
      "text/plain": [
       "Sharfabad    -0.371320\n",
       "Tariq Road   -0.795583\n",
       "Defence      -1.176762\n",
       "dtype: float64"
      ]
     },
     "execution_count": 175,
     "metadata": {},
     "output_type": "execute_result"
    }
   ],
   "source": [
    "df['Karachi']['Sharfabad':'Defence']"
   ]
  },
  {
   "cell_type": "code",
   "execution_count": 176,
   "metadata": {},
   "outputs": [
    {
     "data": {
      "text/plain": [
       "Sharfabad    -0.371320\n",
       "Tariq Road   -0.795583\n",
       "Defence      -1.176762\n",
       "dtype: float64"
      ]
     },
     "execution_count": 176,
     "metadata": {},
     "output_type": "execute_result"
    }
   ],
   "source": [
    "df['Karachi'][1:4]"
   ]
  },
  {
   "cell_type": "code",
   "execution_count": 177,
   "metadata": {},
   "outputs": [
    {
     "data": {
      "text/plain": [
       "Sharfabad    -0.371320\n",
       "Tariq Road   -0.795583\n",
       "Defence      -1.176762\n",
       "dtype: float64"
      ]
     },
     "execution_count": 177,
     "metadata": {},
     "output_type": "execute_result"
    }
   ],
   "source": [
    "df['Karachi'].iloc[1:]"
   ]
  },
  {
   "cell_type": "code",
   "execution_count": 178,
   "metadata": {},
   "outputs": [
    {
     "data": {
      "text/plain": [
       "Sharfabad   -0.371320\n",
       "Defence     -1.176762\n",
       "dtype: float64"
      ]
     },
     "execution_count": 178,
     "metadata": {},
     "output_type": "execute_result"
    }
   ],
   "source": [
    "df[\"Karachi\"].iloc[[1,3]]"
   ]
  },
  {
   "cell_type": "code",
   "execution_count": 179,
   "metadata": {},
   "outputs": [],
   "source": [
    "x = df.unstack()"
   ]
  },
  {
   "cell_type": "code",
   "execution_count": 180,
   "metadata": {},
   "outputs": [
    {
     "data": {
      "text/plain": [
       "Karachi    Dhoraji                1.182825\n",
       "           Sharfabad             -0.371320\n",
       "           Tariq Road            -0.795583\n",
       "           Defence               -1.176762\n",
       "lahore     Gulberg               -1.574369\n",
       "           Iqbal Road             0.880894\n",
       "           Model Town             1.516095\n",
       "Islamabad  F-9                    1.162427\n",
       "Peshware   Khyber                -0.323668\n",
       "           Qissa khuwani Bazar    0.324375\n",
       "dtype: float64"
      ]
     },
     "execution_count": 180,
     "metadata": {},
     "output_type": "execute_result"
    }
   ],
   "source": [
    "df"
   ]
  },
  {
   "cell_type": "code",
   "execution_count": 184,
   "metadata": {},
   "outputs": [
    {
     "data": {
      "text/plain": [
       "Islamabad  F-9                    1.162427\n",
       "Karachi    Defence               -1.176762\n",
       "           Dhoraji                1.182825\n",
       "           Sharfabad             -0.371320\n",
       "           Tariq Road            -0.795583\n",
       "Peshware   Khyber                -0.323668\n",
       "           Qissa khuwani Bazar    0.324375\n",
       "lahore     Gulberg               -1.574369\n",
       "           Iqbal Road             0.880894\n",
       "           Model Town             1.516095\n",
       "dtype: float64"
      ]
     },
     "execution_count": 184,
     "metadata": {},
     "output_type": "execute_result"
    }
   ],
   "source": [
    "df.unstack().stack()"
   ]
  },
  {
   "cell_type": "code",
   "execution_count": 144,
   "metadata": {},
   "outputs": [
    {
     "data": {
      "text/html": [
       "<div>\n",
       "<style scoped>\n",
       "    .dataframe tbody tr th:only-of-type {\n",
       "        vertical-align: middle;\n",
       "    }\n",
       "\n",
       "    .dataframe tbody tr th {\n",
       "        vertical-align: top;\n",
       "    }\n",
       "\n",
       "    .dataframe thead th {\n",
       "        text-align: right;\n",
       "    }\n",
       "</style>\n",
       "<table border=\"1\" class=\"dataframe\">\n",
       "  <thead>\n",
       "    <tr style=\"text-align: right;\">\n",
       "      <th></th>\n",
       "      <th>Defence</th>\n",
       "      <th>Dhoraji</th>\n",
       "      <th>F-9</th>\n",
       "      <th>Gulberg</th>\n",
       "      <th>Iqbal Road</th>\n",
       "      <th>Khyber</th>\n",
       "      <th>Model Town</th>\n",
       "      <th>Qissa khuwani Bazar</th>\n",
       "      <th>Sharfabad</th>\n",
       "      <th>Tariq Road</th>\n",
       "    </tr>\n",
       "  </thead>\n",
       "  <tbody>\n",
       "    <tr>\n",
       "      <th>Islamabad</th>\n",
       "      <td>NaN</td>\n",
       "      <td>NaN</td>\n",
       "      <td>-1.403138</td>\n",
       "      <td>NaN</td>\n",
       "      <td>NaN</td>\n",
       "      <td>NaN</td>\n",
       "      <td>NaN</td>\n",
       "      <td>NaN</td>\n",
       "      <td>NaN</td>\n",
       "      <td>NaN</td>\n",
       "    </tr>\n",
       "    <tr>\n",
       "      <th>Karachi</th>\n",
       "      <td>-1.519857</td>\n",
       "      <td>0.64102</td>\n",
       "      <td>NaN</td>\n",
       "      <td>NaN</td>\n",
       "      <td>NaN</td>\n",
       "      <td>NaN</td>\n",
       "      <td>NaN</td>\n",
       "      <td>NaN</td>\n",
       "      <td>-2.163223</td>\n",
       "      <td>0.610264</td>\n",
       "    </tr>\n",
       "    <tr>\n",
       "      <th>Peshware</th>\n",
       "      <td>NaN</td>\n",
       "      <td>NaN</td>\n",
       "      <td>NaN</td>\n",
       "      <td>NaN</td>\n",
       "      <td>NaN</td>\n",
       "      <td>1.2927</td>\n",
       "      <td>NaN</td>\n",
       "      <td>0.025905</td>\n",
       "      <td>NaN</td>\n",
       "      <td>NaN</td>\n",
       "    </tr>\n",
       "    <tr>\n",
       "      <th>lahore</th>\n",
       "      <td>NaN</td>\n",
       "      <td>NaN</td>\n",
       "      <td>NaN</td>\n",
       "      <td>0.084131</td>\n",
       "      <td>0.37298</td>\n",
       "      <td>NaN</td>\n",
       "      <td>0.318206</td>\n",
       "      <td>NaN</td>\n",
       "      <td>NaN</td>\n",
       "      <td>NaN</td>\n",
       "    </tr>\n",
       "  </tbody>\n",
       "</table>\n",
       "</div>"
      ],
      "text/plain": [
       "            Defence  Dhoraji       F-9   Gulberg  Iqbal Road  Khyber  \\\n",
       "Islamabad       NaN      NaN -1.403138       NaN         NaN     NaN   \n",
       "Karachi   -1.519857  0.64102       NaN       NaN         NaN     NaN   \n",
       "Peshware        NaN      NaN       NaN       NaN         NaN  1.2927   \n",
       "lahore          NaN      NaN       NaN  0.084131     0.37298     NaN   \n",
       "\n",
       "           Model Town  Qissa khuwani Bazar  Sharfabad  Tariq Road  \n",
       "Islamabad         NaN                  NaN        NaN         NaN  \n",
       "Karachi           NaN                  NaN  -2.163223    0.610264  \n",
       "Peshware          NaN             0.025905        NaN         NaN  \n",
       "lahore       0.318206                  NaN        NaN         NaN  "
      ]
     },
     "execution_count": 144,
     "metadata": {},
     "output_type": "execute_result"
    }
   ],
   "source": [
    "x"
   ]
  },
  {
   "cell_type": "code",
   "execution_count": 145,
   "metadata": {},
   "outputs": [
    {
     "data": {
      "text/plain": [
       "Islamabad  F-9                   -1.403138\n",
       "Karachi    Defence               -1.519857\n",
       "           Dhoraji                0.641020\n",
       "           Sharfabad             -2.163223\n",
       "           Tariq Road             0.610264\n",
       "Peshware   Khyber                 1.292700\n",
       "           Qissa khuwani Bazar    0.025905\n",
       "lahore     Gulberg                0.084131\n",
       "           Iqbal Road             0.372980\n",
       "           Model Town             0.318206\n",
       "dtype: float64"
      ]
     },
     "execution_count": 145,
     "metadata": {},
     "output_type": "execute_result"
    }
   ],
   "source": [
    "x.stack()"
   ]
  },
  {
   "cell_type": "code",
   "execution_count": 206,
   "metadata": {},
   "outputs": [],
   "source": [
    "df.index.names = ['CITY' , 'AREA' ]"
   ]
  },
  {
   "cell_type": "code",
   "execution_count": 207,
   "metadata": {},
   "outputs": [
    {
     "data": {
      "text/plain": [
       "CITY       AREA               \n",
       "Karachi    Dhoraji                0.878767\n",
       "           Sharfabad              1.172870\n",
       "           Tariq Road            -0.099732\n",
       "           Defence                2.128372\n",
       "lahore     Gulberg                1.145684\n",
       "           Iqbal Road            -0.506274\n",
       "           Model Town            -0.813375\n",
       "Islamabad  F-9                   -0.042742\n",
       "Peshware   Khyber                 0.062174\n",
       "           Qissa khuwani Bazar    0.349359\n",
       "dtype: float64"
      ]
     },
     "execution_count": 207,
     "metadata": {},
     "output_type": "execute_result"
    }
   ],
   "source": [
    "df"
   ]
  },
  {
   "cell_type": "code",
   "execution_count": 208,
   "metadata": {},
   "outputs": [],
   "source": [
    "#df.swaplevel('CITY' , 'AREA')"
   ]
  },
  {
   "cell_type": "code",
   "execution_count": 214,
   "metadata": {},
   "outputs": [
    {
     "data": {
      "text/plain": [
       "AREA                 CITY     \n",
       "F-9                  Islamabad   -0.042742\n",
       "Defence              Karachi      2.128372\n",
       "Dhoraji              Karachi      0.878767\n",
       "Sharfabad            Karachi      1.172870\n",
       "Tariq Road           Karachi     -0.099732\n",
       "Khyber               Peshware     0.062174\n",
       "Qissa khuwani Bazar  Peshware     0.349359\n",
       "Gulberg              lahore       1.145684\n",
       "Iqbal Road           lahore      -0.506274\n",
       "Model Town           lahore      -0.813375\n",
       "dtype: float64"
      ]
     },
     "execution_count": 214,
     "metadata": {},
     "output_type": "execute_result"
    }
   ],
   "source": [
    "df.swaplevel('AREA' , 'CITY').sort_index(level= 'CITY')"
   ]
  },
  {
   "cell_type": "code",
   "execution_count": null,
   "metadata": {},
   "outputs": [],
   "source": []
  },
  {
   "cell_type": "code",
   "execution_count": 3,
   "metadata": {},
   "outputs": [
    {
     "ename": "NameError",
     "evalue": "name 'response_dict' is not defined",
     "output_type": "error",
     "traceback": [
      "\u001b[1;31m---------------------------------------------------------------------------\u001b[0m",
      "\u001b[1;31mNameError\u001b[0m                                 Traceback (most recent call last)",
      "\u001b[1;32m<ipython-input-3-cedcb48bd38a>\u001b[0m in \u001b[0;36m<module>\u001b[1;34m\u001b[0m\n\u001b[0;32m      1\u001b[0m \u001b[1;31m# Explore information about the repositories.\u001b[0m\u001b[1;33m\u001b[0m\u001b[1;33m\u001b[0m\u001b[1;33m\u001b[0m\u001b[0m\n\u001b[1;32m----> 2\u001b[1;33m \u001b[0mrepo_dicts\u001b[0m \u001b[1;33m=\u001b[0m \u001b[0mresponse_dict\u001b[0m\u001b[1;33m[\u001b[0m\u001b[1;34m'items'\u001b[0m\u001b[1;33m]\u001b[0m\u001b[1;33m\u001b[0m\u001b[1;33m\u001b[0m\u001b[0m\n\u001b[0m\u001b[0;32m      3\u001b[0m \u001b[0mprint\u001b[0m\u001b[1;33m(\u001b[0m\u001b[1;34m\"Repositories returned:\"\u001b[0m\u001b[1;33m,\u001b[0m \u001b[0mlen\u001b[0m\u001b[1;33m(\u001b[0m\u001b[0mrepo_dicts\u001b[0m\u001b[1;33m)\u001b[0m\u001b[1;33m)\u001b[0m\u001b[1;33m\u001b[0m\u001b[1;33m\u001b[0m\u001b[0m\n",
      "\u001b[1;31mNameError\u001b[0m: name 'response_dict' is not defined"
     ]
    }
   ],
   "source": [
    "# Explore information about the repositories.\n",
    "repo_dicts = response_dict['items']\n",
    "print(\"Repositories returned:\", len(repo_dicts))"
   ]
  },
  {
   "cell_type": "code",
   "execution_count": null,
   "metadata": {},
   "outputs": [],
   "source": []
  }
 ],
 "metadata": {
  "kernelspec": {
   "display_name": "Python 3",
   "language": "python",
   "name": "python3"
  },
  "language_info": {
   "codemirror_mode": {
    "name": "ipython",
    "version": 3
   },
   "file_extension": ".py",
   "mimetype": "text/x-python",
   "name": "python",
   "nbconvert_exporter": "python",
   "pygments_lexer": "ipython3",
   "version": "3.7.1"
  }
 },
 "nbformat": 4,
 "nbformat_minor": 2
}
